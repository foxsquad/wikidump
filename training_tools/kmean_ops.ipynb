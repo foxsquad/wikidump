{
 "cells": [
  {
   "cell_type": "markdown",
   "metadata": {
    "slideshow": {
     "slide_type": "-"
    }
   },
   "source": [
    "-----\n",
    "Import stage"
   ]
  },
  {
   "cell_type": "code",
   "execution_count": 1,
   "metadata": {},
   "outputs": [],
   "source": [
    "import tensorflow as tf\n",
    "from matplotlib import pyplot as plt\n",
    "from matplotlib import colors"
   ]
  },
  {
   "cell_type": "code",
   "execution_count": 2,
   "metadata": {},
   "outputs": [],
   "source": [
    "labels_map = {i: cc for i, cc in enumerate('rgy')}"
   ]
  },
  {
   "cell_type": "markdown",
   "metadata": {},
   "source": [
    "------\n",
    "Prepare random data here"
   ]
  },
  {
   "cell_type": "code",
   "execution_count": 3,
   "metadata": {},
   "outputs": [],
   "source": [
    "centers = tf.random.uniform(\n",
    "    # shape: K, vector dim, 1 for column vector\n",
    "    shape=(3, 2),\n",
    "    minval=1.0,\n",
    "    maxval=7.0,\n",
    "    dtype=tf.float32,\n",
    "    seed=7000)\n",
    "data = tf.concat([\n",
    "    tf.random.normal((100, 2), 0.0, 0.5) + tf.constant([1, 3], tf.float32),\n",
    "    tf.random.normal((100, 2), 0.0, 0.5) + tf.constant([4, 2], tf.float32),\n",
    "    tf.random.normal((100, 2), 0.0, 0.5) + tf.constant([7, 8], tf.float32),\n",
    "], axis=0)"
   ]
  },
  {
   "cell_type": "code",
   "execution_count": 4,
   "metadata": {},
   "outputs": [],
   "source": [
    "x, y = data[:, 0], data[:, 1]"
   ]
  },
  {
   "cell_type": "code",
   "execution_count": 5,
   "metadata": {},
   "outputs": [
    {
     "data": {
      "image/png": "[encoded data removed]",
      "text/plain": [
       "<Figure size 360x360 with 1 Axes>"
      ]
     },
     "metadata": {
      "needs_background": "light"
     },
     "output_type": "display_data"
    }
   ],
   "source": [
    "plt.figure(figsize=(5, 5))\n",
    "plt.plot(x, y, '.')\n",
    "_ = plt.plot(centers[:, 0], centers[:, 1], 'yo')"
   ]
  },
  {
   "cell_type": "code",
   "execution_count": 6,
   "metadata": {},
   "outputs": [
    {
     "name": "stdout",
     "output_type": "stream",
     "text": [
      "(300, 2)\n",
      "(3, 2)\n"
     ]
    }
   ],
   "source": [
    "print(data.shape)\n",
    "print(centers.shape)"
   ]
  },
  {
   "cell_type": "markdown",
   "metadata": {},
   "source": [
    "-----\n",
    "L2-Norm of each point, corresponds to their centroid:\n",
    "\n",
    "$$ d^2_i = \\operatorname*{arg\\,min}_k ||x_i-c_k||^2 $$\n",
    "\n",
    "K-Means loss is mean of corresponds norms:\n",
    "\n",
    "$$ L = \\frac{1}{n} \\sum_{i=0}^n{d^2_i} $$\n",
    "\n",
    "Calculate new centroid based on assigned groups:\n",
    "$$ c_k = \\frac{1}{|S_n|} \\sum_{x_i \\in S_k}^n{x_i}$$"
   ]
  },
  {
   "cell_type": "code",
   "execution_count": 17,
   "metadata": {},
   "outputs": [],
   "source": [
    "data_shape = tf.shape(data, tf.int64)\n",
    "data_count = data_shape[0]\n",
    "data_dim = data_shape[1]"
   ]
  },
  {
   "cell_type": "code",
   "execution_count": 18,
   "metadata": {},
   "outputs": [
    {
     "name": "stdout",
     "output_type": "stream",
     "text": [
      "distances.shape = (300, 3)\n",
      "tf.Tensor(9.479459, shape=(), dtype=float32)\n"
     ]
    }
   ],
   "source": [
    "distances = tf.norm(data[:, tf.newaxis, ...] - centers, axis=-1) ** 2\n",
    "print('distances.shape =', distances.shape)\n",
    "\n",
    "indices = tf.argmin(distances, axis=1)  # Assigned indice for each data point\n",
    "gather_indices = tf.concat(\n",
    "    [\n",
    "        tf.expand_dims(tf.range(data_count, dtype=tf.int64), -1),\n",
    "        tf.expand_dims(indices, -1)\n",
    "    ], axis=-1)\n",
    "corr_norms = tf.gather_nd(distances, gather_indices)\n",
    "\n",
    "kmeans_losses = tf.reduce_mean(corr_norms)\n",
    "print(kmeans_losses)"
   ]
  },
  {
   "cell_type": "markdown",
   "metadata": {},
   "source": [
    "-----\n",
    "Calcuate new centroids based on new indices hint:\n",
    "- Assgin each data point to a new spare tensor, with first dim corrs to each corr centroid indice\n",
    "- Calculate reduce mean on first dimmension\n",
    "- The result should be new centroids"
   ]
  },
  {
   "cell_type": "code",
   "execution_count": 19,
   "metadata": {},
   "outputs": [],
   "source": [
    "count = \\\n",
    "tf.transpose(\n",
    "    tf.reduce_sum(\n",
    "        tf.one_hot(indices, 3), 0, True\n",
    "    )\n",
    ") # indice count"
   ]
  },
  {
   "cell_type": "code",
   "execution_count": 38,
   "metadata": {},
   "outputs": [],
   "source": [
    "scatter_shape = tf.concat([\n",
    "    [data_count],\n",
    "    [3],\n",
    "    [data_dim]\n",
    "], 0)"
   ]
  },
  {
   "cell_type": "code",
   "execution_count": 39,
   "metadata": {},
   "outputs": [],
   "source": [
    "nc = \\\n",
    "tf.reduce_sum(\n",
    "    tf.scatter_nd(\n",
    "        gather_indices, \n",
    "        data, \n",
    "        scatter_shape\n",
    "    ),  # Scatter data into spare tensor\n",
    "    axis=0\n",
    ")"
   ]
  },
  {
   "cell_type": "code",
   "execution_count": 40,
   "metadata": {},
   "outputs": [
    {
     "name": "stdout",
     "output_type": "stream",
     "text": [
      "        indices.shape = (300,)\n",
      " gather_indices.shape = (300, 2)\n",
      "           data.shape = (300, 2)\n",
      "          count.shape = (3, 1)\n",
      "             nc.shape = (3, 2)\n"
     ]
    }
   ],
   "source": [
    "print('        indices.shape =', indices.shape)\n",
    "print(' gather_indices.shape =', gather_indices.shape)\n",
    "print('           data.shape =', data.shape)\n",
    "print('          count.shape =', count.shape)\n",
    "print('             nc.shape =', nc.shape)"
   ]
  },
  {
   "cell_type": "code",
   "execution_count": 62,
   "metadata": {},
   "outputs": [],
   "source": [
    "new_centers = nc/count\n",
    "new_distances = tf.norm(data[:, tf.newaxis, ...] - new_centers, axis=-1) ** 2\n",
    "new_indices = tf.argmin(new_distances, axis=1)  # Assigned indice for each data point"
   ]
  },
  {
   "cell_type": "code",
   "execution_count": 63,
   "metadata": {},
   "outputs": [
    {
     "data": {
      "image/png": "[encoded data removed]",
      "text/plain": [
       "<Figure size 360x360 with 1 Axes>"
      ]
     },
     "metadata": {
      "needs_background": "light"
     },
     "output_type": "display_data"
    }
   ],
   "source": [
    "plt.figure(figsize=(5, 5))\n",
    "# plt.scatter(x, y, s=2, c=[labels_map[i.numpy().astype(int)] for i in indices])\n",
    "plt.plot(centers[:, 0], centers[:, 1], 'xk')\n",
    "plt.plot(new_centers[:, 0], new_centers[:, 1], 'xb')\n",
    "plt.scatter(x, y, s=2, c=[labels_map[i.numpy().astype(int)] for i in new_indices])\n",
    "\n",
    "plt.show()"
   ]
  },
  {
   "cell_type": "code",
   "execution_count": null,
   "metadata": {},
   "outputs": [],
   "source": []
  }
 ],
 "metadata": {
  "kernelspec": {
   "display_name": "Python 3",
   "language": "python",
   "name": "python3"
  },
  "language_info": {
   "codemirror_mode": {
    "name": "ipython",
    "version": 3
   },
   "file_extension": ".py",
   "mimetype": "text/x-python",
   "name": "python",
   "nbconvert_exporter": "python",
   "pygments_lexer": "ipython3",
   "version": "3.6.8"
  }
 },
 "nbformat": 4,
 "nbformat_minor": 2
}
